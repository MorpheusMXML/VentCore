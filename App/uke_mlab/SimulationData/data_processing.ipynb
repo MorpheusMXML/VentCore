{
 "cells": [
  {
   "cell_type": "code",
   "execution_count": 6,
   "id": "19c95ef3-b582-4b2f-adf1-0fa1e4373376",
   "metadata": {},
   "outputs": [
    {
     "name": "stdout",
     "output_type": "stream",
     "text": [
      "Defaulting to user installation because normal site-packages is not writeable\n",
      "Requirement already satisfied: openpyxl in /home/jupyter/.local/lib/python3.9/site-packages (3.0.9)\n",
      "Requirement already satisfied: et-xmlfile in /home/jupyter/.local/lib/python3.9/site-packages (from openpyxl) (1.1.0)\n",
      "Defaulting to user installation because normal site-packages is not writeable\n",
      "Requirement already satisfied: mne in /home/jupyter/.local/lib/python3.9/site-packages (0.24.1)\n",
      "Requirement already satisfied: numpy>=1.15.4 in /usr/local/lib/python3.9/dist-packages (from mne) (1.21.5)\n",
      "Requirement already satisfied: scipy>=1.1.0 in /usr/local/lib/python3.9/dist-packages (from mne) (1.7.3)\n"
     ]
    }
   ],
   "source": [
    "!pip install openpyxl\n",
    "!pip install mne\n",
    "import pandas as pd\n",
    "import mne\n",
    "import json\n",
    "import matplotlib.pyplot as plt"
   ]
  },
  {
   "cell_type": "code",
   "execution_count": 84,
   "id": "0d186964-2b62-4890-8d64-94e4e6dfcc14",
   "metadata": {},
   "outputs": [
    {
     "data": {
      "text/html": [
       "<div>\n",
       "<style scoped>\n",
       "    .dataframe tbody tr th:only-of-type {\n",
       "        vertical-align: middle;\n",
       "    }\n",
       "\n",
       "    .dataframe tbody tr th {\n",
       "        vertical-align: top;\n",
       "    }\n",
       "\n",
       "    .dataframe thead th {\n",
       "        text-align: right;\n",
       "    }\n",
       "</style>\n",
       "<table border=\"1\" class=\"dataframe\">\n",
       "  <thead>\n",
       "    <tr style=\"text-align: right;\">\n",
       "      <th></th>\n",
       "      <th># T</th>\n",
       "      <th>Index</th>\n",
       "      <th>DateTime</th>\n",
       "      <th>Pmean</th>\n",
       "      <th>Ppeak</th>\n",
       "      <th>Pplat</th>\n",
       "      <th>etCO2</th>\n",
       "      <th>f</th>\n",
       "      <th>MVe</th>\n",
       "      <th>Vte</th>\n",
       "      <th>...</th>\n",
       "      <th>Unnamed: 101</th>\n",
       "      <th>Unnamed: 102</th>\n",
       "      <th>Unnamed: 103</th>\n",
       "      <th>Unnamed: 104</th>\n",
       "      <th>Unnamed: 105</th>\n",
       "      <th>Unnamed: 106</th>\n",
       "      <th>Unnamed: 107</th>\n",
       "      <th>Unnamed: 108</th>\n",
       "      <th>Unnamed: 109</th>\n",
       "      <th>Unnamed: 110</th>\n",
       "    </tr>\n",
       "  </thead>\n",
       "  <tbody>\n",
       "    <tr>\n",
       "      <th>0</th>\n",
       "      <td># S</td>\n",
       "      <td>Index</td>\n",
       "      <td>DateTime</td>\n",
       "      <td>peep</td>\n",
       "      <td>pInsp</td>\n",
       "      <td>pInspCcsv</td>\n",
       "      <td>vt</td>\n",
       "      <td>freq</td>\n",
       "      <td>patientType</td>\n",
       "      <td>ventilationMode</td>\n",
       "      <td>...</td>\n",
       "      <td>NaN</td>\n",
       "      <td>NaN</td>\n",
       "      <td>NaN</td>\n",
       "      <td>NaN</td>\n",
       "      <td>NaN</td>\n",
       "      <td>NaN</td>\n",
       "      <td>NaN</td>\n",
       "      <td>NaN</td>\n",
       "      <td>NaN</td>\n",
       "      <td>NaN</td>\n",
       "    </tr>\n",
       "    <tr>\n",
       "      <th>1</th>\n",
       "      <td># A</td>\n",
       "      <td>Index</td>\n",
       "      <td>DateTime</td>\n",
       "      <td>Pinput_low</td>\n",
       "      <td>Pinput_high</td>\n",
       "      <td>peep_high</td>\n",
       "      <td>Paw_low</td>\n",
       "      <td>apnoe</td>\n",
       "      <td>flow_unrealisable</td>\n",
       "      <td>temp_high</td>\n",
       "      <td>...</td>\n",
       "      <td>NaN</td>\n",
       "      <td>NaN</td>\n",
       "      <td>NaN</td>\n",
       "      <td>NaN</td>\n",
       "      <td>NaN</td>\n",
       "      <td>NaN</td>\n",
       "      <td>NaN</td>\n",
       "      <td>NaN</td>\n",
       "      <td>NaN</td>\n",
       "      <td>NaN</td>\n",
       "    </tr>\n",
       "    <tr>\n",
       "      <th>2</th>\n",
       "      <td>I</td>\n",
       "      <td>2</td>\n",
       "      <td>13.12.2021 14:49:27</td>\n",
       "      <td>activeView=1</td>\n",
       "      <td>airmix=no</td>\n",
       "      <td>allowMaintenanceSuppress=1</td>\n",
       "      <td>allowMaintSuppress=1</td>\n",
       "      <td>apnoe=30</td>\n",
       "      <td>audioVolume=50</td>\n",
       "      <td>autoAlarmLimit=30</td>\n",
       "      <td>...</td>\n",
       "      <td>triggerInsp=5</td>\n",
       "      <td>triggerOn=0</td>\n",
       "      <td>triggerType=simple</td>\n",
       "      <td>triggerWindow=20</td>\n",
       "      <td>uptime=22714</td>\n",
       "      <td>ventilationMode=IPPV</td>\n",
       "      <td>ventPauseTime=50</td>\n",
       "      <td>version=1</td>\n",
       "      <td>vt=1300</td>\n",
       "      <td>vtKg=6</td>\n",
       "    </tr>\n",
       "    <tr>\n",
       "      <th>3</th>\n",
       "      <td>S</td>\n",
       "      <td>3</td>\n",
       "      <td>13.12.2021 14:49:27</td>\n",
       "      <td>5</td>\n",
       "      <td>20</td>\n",
       "      <td>60</td>\n",
       "      <td>1300</td>\n",
       "      <td>10</td>\n",
       "      <td>adult</td>\n",
       "      <td>IPPV</td>\n",
       "      <td>...</td>\n",
       "      <td>NaN</td>\n",
       "      <td>NaN</td>\n",
       "      <td>NaN</td>\n",
       "      <td>NaN</td>\n",
       "      <td>NaN</td>\n",
       "      <td>NaN</td>\n",
       "      <td>NaN</td>\n",
       "      <td>NaN</td>\n",
       "      <td>NaN</td>\n",
       "      <td>NaN</td>\n",
       "    </tr>\n",
       "    <tr>\n",
       "      <th>4</th>\n",
       "      <td>A</td>\n",
       "      <td>4</td>\n",
       "      <td>13.12.2021 14:49:27</td>\n",
       "      <td>0</td>\n",
       "      <td>0</td>\n",
       "      <td>0</td>\n",
       "      <td>0</td>\n",
       "      <td>0</td>\n",
       "      <td>0</td>\n",
       "      <td>0</td>\n",
       "      <td>...</td>\n",
       "      <td>NaN</td>\n",
       "      <td>NaN</td>\n",
       "      <td>NaN</td>\n",
       "      <td>NaN</td>\n",
       "      <td>NaN</td>\n",
       "      <td>NaN</td>\n",
       "      <td>NaN</td>\n",
       "      <td>NaN</td>\n",
       "      <td>NaN</td>\n",
       "      <td>NaN</td>\n",
       "    </tr>\n",
       "  </tbody>\n",
       "</table>\n",
       "<p>5 rows × 111 columns</p>\n",
       "</div>"
      ],
      "text/plain": [
       "   # T  Index             DateTime         Pmean        Ppeak  \\\n",
       "0  # S  Index             DateTime          peep        pInsp   \n",
       "1  # A  Index             DateTime    Pinput_low  Pinput_high   \n",
       "2    I      2  13.12.2021 14:49:27  activeView=1    airmix=no   \n",
       "3    S      3  13.12.2021 14:49:27             5           20   \n",
       "4    A      4  13.12.2021 14:49:27             0            0   \n",
       "\n",
       "                        Pplat                 etCO2         f  \\\n",
       "0                   pInspCcsv                    vt      freq   \n",
       "1                   peep_high               Paw_low     apnoe   \n",
       "2  allowMaintenanceSuppress=1  allowMaintSuppress=1  apnoe=30   \n",
       "3                          60                  1300        10   \n",
       "4                           0                     0         0   \n",
       "\n",
       "                 MVe                Vte  ...   Unnamed: 101 Unnamed: 102  \\\n",
       "0        patientType    ventilationMode  ...            NaN          NaN   \n",
       "1  flow_unrealisable          temp_high  ...            NaN          NaN   \n",
       "2     audioVolume=50  autoAlarmLimit=30  ...  triggerInsp=5  triggerOn=0   \n",
       "3              adult               IPPV  ...            NaN          NaN   \n",
       "4                  0                  0  ...            NaN          NaN   \n",
       "\n",
       "         Unnamed: 103      Unnamed: 104  Unnamed: 105          Unnamed: 106  \\\n",
       "0                 NaN               NaN           NaN                   NaN   \n",
       "1                 NaN               NaN           NaN                   NaN   \n",
       "2  triggerType=simple  triggerWindow=20  uptime=22714  ventilationMode=IPPV   \n",
       "3                 NaN               NaN           NaN                   NaN   \n",
       "4                 NaN               NaN           NaN                   NaN   \n",
       "\n",
       "       Unnamed: 107 Unnamed: 108 Unnamed: 109 Unnamed: 110  \n",
       "0               NaN          NaN          NaN          NaN  \n",
       "1               NaN          NaN          NaN          NaN  \n",
       "2  ventPauseTime=50    version=1      vt=1300       vtKg=6  \n",
       "3               NaN          NaN          NaN          NaN  \n",
       "4               NaN          NaN          NaN          NaN  \n",
       "\n",
       "[5 rows x 111 columns]"
      ]
     },
     "execution_count": 84,
     "metadata": {},
     "output_type": "execute_result"
    }
   ],
   "source": [
    "file_errors_location = 'EinsatzdatenBeatmung.xlsx'\n",
    "df = pd.read_excel(file_errors_location)\n",
    "df.head()"
   ]
  },
  {
   "cell_type": "code",
   "execution_count": 7,
   "id": "c2ef8ceb-6a13-4ae9-a013-5bcf7d09df4a",
   "metadata": {},
   "outputs": [
    {
     "name": "stdout",
     "output_type": "stream",
     "text": [
      "Extracting EDF parameters from /home/jupyter/uni/ventilation.edf...\n",
      "EDF file detected\n",
      "Setting channel info structure...\n",
      "Creating raw.info structure...\n",
      "Extracting EDF parameters from /home/jupyter/uni/monitor.edf...\n",
      "EDF file detected\n",
      "Setting channel info structure...\n",
      "Creating raw.info structure...\n"
     ]
    }
   ],
   "source": [
    "# read files via mne\n",
    "\n",
    "ventilation_file = \"ventilation.edf\"\n",
    "ventilation_data = mne.io.read_raw_edf(ventilation_file)\n",
    "ventilation_raw_data = ventilation_data.get_data()\n",
    "ventilation_info = ventilation_data.info\n",
    "ventilation_channels = ventilation_data.ch_names\n",
    "\n",
    "ekg_file = \"monitor.edf\"\n",
    "ekg_data = mne.io.read_raw_edf(ekg_file)\n",
    "ekg_raw_data = ekg_data.get_data()\n",
    "ekg_info = ekg_data.info\n",
    "ekg_channels = ekg_data.ch_names"
   ]
  },
  {
   "cell_type": "code",
   "execution_count": 8,
   "id": "f68edf41-3823-411f-ad28-0ad58bf293a4",
   "metadata": {},
   "outputs": [],
   "source": [
    "dictionarylist = [\n",
    "    {\n",
    "        \"name\": \"PAW\",\n",
    "        \"data\": ventilation_raw_data[0],\n",
    "        \"resolution\": 100\n",
    "    },\n",
    "    {\n",
    "        \"name\": \"EXTFLOWBTPS\",\n",
    "        \"data\": ventilation_raw_data[1],\n",
    "        \"resolution\": 100\n",
    "    },\n",
    "    \n",
    "    {\n",
    "        \"name\": \"FLOWBTPS\",\n",
    "        \"data\": ventilation_raw_data[2],\n",
    "        \"resolution\": 100\n",
    "    },\n",
    "    {\n",
    "        \"name\": \"CO2_WAVE\",\n",
    "        \"data\": ventilation_raw_data[3], \n",
    "        \"resolution\": 40\n",
    "    },\n",
    "    {\n",
    "        \"name\": \"EKG_CHANNEL_2\",\n",
    "        \"data\": ekg_raw_data[0], \n",
    "        \"resolution\": 500\n",
    "    },\n",
    "    {\n",
    "        \"name\": \"EKG_CHANNEL_3\",\n",
    "        \"data\": ekg_raw_data[1], \n",
    "        \"resolution\": 500\n",
    "    },\n",
    "    {\n",
    "        \"name\": \"NULL\",\n",
    "        \"data\": ekg_raw_data[2], \n",
    "        \"resolution\": 500\n",
    "    },\n",
    "    {\n",
    "        \"name\": \"PLETH\",\n",
    "        \"data\": ekg_raw_data[3], \n",
    "        \"resolution\": 500\n",
    "    },\n",
    "    {\n",
    "        \"name\": \"HF\",\n",
    "        \"data\": ekg_raw_data[4], \n",
    "        \"resolution\": 1\n",
    "    }\n",
    "]"
   ]
  },
  {
   "cell_type": "code",
   "execution_count": 9,
   "id": "db519389-5243-4350-9fe4-7b441e7bbeb6",
   "metadata": {},
   "outputs": [],
   "source": [
    "# Calculates the simple moving average\n",
    "# We use this function for noise reduction in our data\n",
    "\n",
    "def simple_moving_avg(data, n):\n",
    "    averaged = []\n",
    "    for i in range(len(data)):\n",
    "        temp_value = 0\n",
    "        for j in range(n):\n",
    "            # no check for loopback when i-j < 0\n",
    "            temp_value += data[i-j]\n",
    "        averaged.append(1/n * temp_value)\n",
    "    return averaged"
   ]
  },
  {
   "cell_type": "code",
   "execution_count": 10,
   "id": "43a6c246-1c39-425d-9983-0a40f6138980",
   "metadata": {},
   "outputs": [],
   "source": [
    "sma_ekg_2 = simple_moving_avg(dictionarylist[4][\"data\"], 10)\n",
    "sma_ekg_3 = simple_moving_avg(dictionarylist[5][\"data\"], 10)"
   ]
  },
  {
   "cell_type": "code",
   "execution_count": 11,
   "id": "4c3afb77-951f-4357-8d18-e248f641a67a",
   "metadata": {},
   "outputs": [],
   "source": [
    "# generate x-axis\n",
    "x = [i for i in range(len(sma_ekg_2))]"
   ]
  },
  {
   "cell_type": "code",
   "execution_count": 15,
   "id": "62b8990c-087f-4d0b-bc52-9cc663715611",
   "metadata": {},
   "outputs": [
    {
     "data": {
      "image/png": "[encoded data removed]",
      "text/plain": [
       "<Figure size 576x432 with 1 Axes>"
      ]
     },
     "metadata": {
      "needs_background": "light"
     },
     "output_type": "display_data"
    }
   ],
   "source": [
    "# Change is only really visible in a different figsize --> figsize(800, 6)\n",
    "fig, ax = plt.subplots(figsize=(8, 6))\n",
    "ax.plot(x, sma_ekg_2);"
   ]
  },
  {
   "cell_type": "code",
   "execution_count": 13,
   "id": "aa6ed1be-b3b9-4abd-a2d2-ddbeb850bb07",
   "metadata": {},
   "outputs": [
    {
     "data": {
      "image/png": "[encoded data removed]",
      "text/plain": [
       "<Figure size 576x432 with 1 Axes>"
      ]
     },
     "metadata": {
      "needs_background": "light"
     },
     "output_type": "display_data"
    }
   ],
   "source": [
    "# No change at all | figsize(800, 6)\n",
    "fig, ax = plt.subplots(figsize=(8, 6))\n",
    "ax.plot(x, dictionarylist[4][\"data\"]);"
   ]
  },
  {
   "cell_type": "code",
   "execution_count": 65,
   "id": "82b5098b-cd44-454e-b93c-92734cc60e4b",
   "metadata": {},
   "outputs": [],
   "source": [
    "with open('data.json', 'w') as f:\n",
    "    json.dump({\"data\": dictionarylist}, f)"
   ]
  }
 ],
 "metadata": {
  "kernelspec": {
   "display_name": "Python 3 (ipykernel)",
   "language": "python",
   "name": "python3"
  },
  "language_info": {
   "codemirror_mode": {
    "name": "ipython",
    "version": 3
   },
   "file_extension": ".py",
   "mimetype": "text/x-python",
   "name": "python",
   "nbconvert_exporter": "python",
   "pygments_lexer": "ipython3",
   "version": "3.9.2"
  }
 },
 "nbformat": 4,
 "nbformat_minor": 5
}
