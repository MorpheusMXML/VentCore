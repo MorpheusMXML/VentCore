{
 "cells": [
  {
   "cell_type": "markdown",
   "id": "720a4122-41b7-4de0-b579-5781fa87a77a",
   "metadata": {
    "jp-MarkdownHeadingCollapsed": true,
    "tags": []
   },
   "source": [
    "#### Imports"
   ]
  },
  {
   "cell_type": "code",
   "execution_count": 3,
   "id": "19c95ef3-b582-4b2f-adf1-0fa1e4373376",
   "metadata": {
    "tags": []
   },
   "outputs": [],
   "source": [
    "import math\n",
    "import random\n",
    "import json\n",
    "\n",
    "import pandas as pd\n",
    "import numpy as np\n",
    "import matplotlib.pyplot as plt\n",
    "\n",
    "import mne\n",
    "import itertools"
   ]
  },
  {
   "cell_type": "markdown",
   "id": "c160b871-021d-4595-a4a3-796a32766989",
   "metadata": {
    "jp-MarkdownHeadingCollapsed": true,
    "tags": []
   },
   "source": [
    "#### Load Data"
   ]
  },
  {
   "cell_type": "code",
   "execution_count": null,
   "id": "0d186964-2b62-4890-8d64-94e4e6dfcc14",
   "metadata": {},
   "outputs": [],
   "source": [
    "# load error dataframe\n",
    "file_errors_location = 'EinsatzdatenBeatmung.xlsx'\n",
    "df = pd.read_excel(file_errors_location)\n",
    "df.head()"
   ]
  },
  {
   "cell_type": "code",
   "execution_count": null,
   "id": "c2ef8ceb-6a13-4ae9-a013-5bcf7d09df4a",
   "metadata": {},
   "outputs": [],
   "source": [
    "# load vent and ecg data\n",
    "ventilation_file = \"2021-12-13_14-49-27_MMS2_SN14638.edf\"\n",
    "ventilation_data = mne.io.read_raw_edf(ventilation_file)\n",
    "ventilation_raw_data = ventilation_data.get_data()\n",
    "ventilation_info = ventilation_data.info\n",
    "ventilation_channels = ventilation_data.ch_names\n",
    "\n",
    "ekg_file = \"recording.edf\"\n",
    "ekg_data = mne.io.read_raw_edf(ekg_file)\n",
    "ekg_raw_data = ekg_data.get_data()\n",
    "# you can get the metadata included in the file and a list of all channels:\n",
    "ekg_info = ekg_data.info\n",
    "ekg_channels = ekg_data.ch_names"
   ]
  },
  {
   "cell_type": "markdown",
   "id": "b98dd19a-12c1-491a-a6d8-0d8fae43393c",
   "metadata": {
    "jp-MarkdownHeadingCollapsed": true,
    "tags": []
   },
   "source": [
    "#### Inspecting the data"
   ]
  },
  {
   "cell_type": "code",
   "execution_count": null,
   "id": "fe992d91-433d-4dfc-93f6-aad6d1aae2dd",
   "metadata": {},
   "outputs": [],
   "source": [
    "# you can find a list of attributes available here: https://mne.tools/stable/generated/mne.io.Raw.html\n",
    "ventilation_data.describe(data_frame=True)"
   ]
  },
  {
   "cell_type": "code",
   "execution_count": null,
   "id": "8b4bdcb3-6f9a-4f4f-b1ab-7aa788a0e3e1",
   "metadata": {},
   "outputs": [],
   "source": [
    "# more information about vent data\n",
    "ventilation_data"
   ]
  },
  {
   "cell_type": "code",
   "execution_count": null,
   "id": "d8c0615e-f0f5-4408-97bb-abd77e0e237b",
   "metadata": {},
   "outputs": [],
   "source": [
    "# more information about ecg data\n",
    "ekg_data"
   ]
  },
  {
   "cell_type": "markdown",
   "id": "21406447-42e7-4813-b076-2ad225a9a7d0",
   "metadata": {
    "jp-MarkdownHeadingCollapsed": true,
    "tags": []
   },
   "source": [
    "#### First json format"
   ]
  },
  {
   "cell_type": "code",
   "execution_count": 9,
   "id": "f68edf41-3823-411f-ad28-0ad58bf293a4",
   "metadata": {},
   "outputs": [],
   "source": [
    "# first attempt at creating a json for our data\n",
    "dictionarylist = [\n",
    "    {\n",
    "        \"name\": \"PAW\",\n",
    "        \"data\": ventilation_raw_data[0],\n",
    "        \"resolution\": 100\n",
    "    },\n",
    "    {\n",
    "        \"name\": \"EXTFLOWBTPS\",\n",
    "        \"data\": ventilation_raw_data[1],\n",
    "        \"resolution\": 100\n",
    "    },\n",
    "    \n",
    "    {\n",
    "        \"name\": \"FLOWBTPS\",\n",
    "        \"data\": ventilation_raw_data[2],\n",
    "        \"resolution\": 100\n",
    "    },\n",
    "    {\n",
    "        \"name\": \"CO2_WAVE\",\n",
    "        \"data\": ventilation_raw_data[3], \n",
    "        \"resolution\": 40\n",
    "    },\n",
    "    {\n",
    "        \"name\": \"EKG_CHANNEL_2\",\n",
    "        \"data\": ekg_raw_data[0], \n",
    "        \"resolution\": 500\n",
    "    },\n",
    "    {\n",
    "        \"name\": \"EKG_CHANNEL_3\",\n",
    "        \"data\": ekg_raw_data[1], \n",
    "        \"resolution\": 500\n",
    "    },\n",
    "    {\n",
    "        \"name\": \"NULL\",\n",
    "        \"data\": ekg_raw_data[2], \n",
    "        \"resolution\": 500\n",
    "    },\n",
    "    {\n",
    "        \"name\": \"PLETH\",\n",
    "        \"data\": ekg_raw_data[3], \n",
    "        \"resolution\": 500\n",
    "    },\n",
    "    {\n",
    "        \"name\": \"HF\",\n",
    "        \"data\": ekg_raw_data[4], \n",
    "        \"resolution\": 1\n",
    "    },\n",
    "]"
   ]
  },
  {
   "cell_type": "markdown",
   "id": "e6f7a545-c314-499e-b004-8271cf1e497d",
   "metadata": {
    "jp-MarkdownHeadingCollapsed": true,
    "tags": []
   },
   "source": [
    "#### Storing data between notebooks"
   ]
  },
  {
   "cell_type": "code",
   "execution_count": null,
   "id": "63f5fd66-77be-43ba-a348-21ac71557d92",
   "metadata": {},
   "outputs": [],
   "source": [
    "# storing data between notebooks -> used in weinmanndata.ipynb\n",
    "paw_data = ventilation_raw_data[0]\n",
    "flow_data = ventilation_raw_data[1]\n",
    "co2_data = ventilation_raw_data[3]\n",
    "ecg2_data = ekg_raw_data[0]\n",
    "\n",
    "%store paw_data\n",
    "%store ecg2_data\n",
    "%store flow_data\n",
    "%store co2_data\n",
    "%store pleth_data"
   ]
  },
  {
   "cell_type": "markdown",
   "id": "c42f18cf-731b-4a48-aae6-dc7e9f7ae960",
   "metadata": {
    "jp-MarkdownHeadingCollapsed": true,
    "tags": []
   },
   "source": [
    "#### Simple Moving Average"
   ]
  },
  {
   "cell_type": "code",
   "execution_count": 10,
   "id": "db519389-5243-4350-9fe4-7b441e7bbeb6",
   "metadata": {},
   "outputs": [],
   "source": [
    "# Calculates the simple moving average\n",
    "# We use this function for noise reduction in our data\n",
    "def simple_moving_avg(data, n):\n",
    "    averaged = []\n",
    "    for i in range(len(data)):\n",
    "        temp_value = 0\n",
    "        for j in range(n):\n",
    "            # no check for loopback when i-j < 0\n",
    "            temp_value += data[i-j]\n",
    "        averaged.append(1/n * temp_value)\n",
    "    return averaged\n",
    "     \n",
    "# Example call for simple_moving_avg\n",
    "# avg = simple_moving_avg(dictionarylist[5][\"data\"], 10)"
   ]
  },
  {
   "cell_type": "code",
   "execution_count": 11,
   "id": "43a6c246-1c39-425d-9983-0a40f6138980",
   "metadata": {},
   "outputs": [],
   "source": [
    "# simple_moving_average for the ekg channels 2 and 3\n",
    "sma_ekg_2 = simple_moving_avg(dictionarylist[4][\"data\"], 10)\n",
    "sma_ekg_3 = simple_moving_avg(dictionarylist[5][\"data\"], 10)"
   ]
  },
  {
   "cell_type": "code",
   "execution_count": 12,
   "id": "4c3afb77-951f-4357-8d18-e248f641a67a",
   "metadata": {},
   "outputs": [],
   "source": [
    "# generate x-axis\n",
    "x = [i for i in range(len(sma_ekg_2))]"
   ]
  },
  {
   "cell_type": "markdown",
   "id": "d9fed5cf-262e-4e22-93a1-b6937ea013f7",
   "metadata": {
    "jp-MarkdownHeadingCollapsed": true,
    "tags": []
   },
   "source": [
    "#### Comparing raw data to the data after using SMA"
   ]
  },
  {
   "cell_type": "code",
   "execution_count": null,
   "id": "62b8990c-087f-4d0b-bc52-9cc663715611",
   "metadata": {},
   "outputs": [],
   "source": [
    "# Change is only really visible in a different figsize --> figsize(800, 6) | double click on the whitespace below to see graph\n",
    "fig, ax = plt.subplots(figsize=(800, 6))\n",
    "ax.plot(x, sma_ekg_2);"
   ]
  },
  {
   "cell_type": "code",
   "execution_count": null,
   "id": "aa6ed1be-b3b9-4abd-a2d2-ddbeb850bb07",
   "metadata": {},
   "outputs": [],
   "source": [
    "# No change at all | figsize(800, 6) | double click on the whitespace below to see graph\n",
    "fig, ax = plt.subplots(figsize=(800, 6))\n",
    "ax.plot(x, dictionarylist[4][\"data\"]);"
   ]
  },
  {
   "cell_type": "code",
   "execution_count": null,
   "id": "82b5098b-cd44-454e-b93c-92734cc60e4b",
   "metadata": {},
   "outputs": [],
   "source": [
    "# writing data into json\n",
    "with open('data.json', 'w') as f:\n",
    "    json.dump({\"data\": dictionarylist}, f)"
   ]
  },
  {
   "cell_type": "markdown",
   "id": "a28935d4-7548-4354-bab7-6b7ec1bbbef7",
   "metadata": {
    "jp-MarkdownHeadingCollapsed": true,
    "tags": []
   },
   "source": [
    "#### Random Walk"
   ]
  },
  {
   "cell_type": "code",
   "execution_count": null,
   "id": "39b71093-996c-43f9-abe1-9dd2f09173e8",
   "metadata": {},
   "outputs": [],
   "source": [
    "# generates a list of pseudo random values that are based on the previous value\n",
    "def make_random_walk(first, last, min_val, max_val, size):\n",
    " \n",
    "    steps = np.random.normal(size=size-2)\n",
    "\n",
    "   \n",
    "    #walk = np.cumsum(steps, dtype = int)\n",
    "    walk = steps.cumsum()\n",
    "   \n",
    "    series = walk + first\n",
    "\n",
    "    # Compare the target min and max values with the observed ones.\n",
    "    target_min_max = np.array([min_val, max_val])\n",
    "    observed_min_max = np.array([series.min(), series.max()])\n",
    "\n",
    "    # Calculate the absolute 'overshoot' for min and max values\n",
    "    f = np.array([-1, 1])\n",
    "    overshoot = (observed_min_max*f - target_min_max*f)\n",
    "\n",
    "    # Calculate the scale factor to constrain the walk within the\n",
    "    # target min/max values.\n",
    "    # Don't upscale.\n",
    "    correction_base = [walk.min(), walk.max()][np.argmax(overshoot)]\n",
    "    scale = min(1, (correction_base - overshoot.max()) / correction_base)\n",
    "\n",
    "    # Generate the scaled series\n",
    "    new_steps = steps * scale\n",
    "    new_walk = new_steps.cumsum()\n",
    "    new_series = new_walk + first\n",
    "\n",
    "    # Check the size of the final step necessary to reach the target endpoint.\n",
    "    last_step_size = abs(last - new_series[-1]) # step needed to reach desired end\n",
    "\n",
    "    # Is it larger than the largest previously observed step?\n",
    "    if last_step_size > np.abs(new_steps).max():\n",
    "        # If so, consider this series invalid.\n",
    "        return None\n",
    "    else:\n",
    "        # Else, we found a valid series that meets the constraints.\n",
    "        return np.concatenate((np.array([first]), new_series, np.array([last])))\n",
    "\n",
    "\n",
    "start = 36\n",
    "stop = 39\n",
    "max_val = 43\n",
    "min_val = 33\n",
    "size = 817\n",
    "\n",
    "# Create an infinite stream of candidate series\n",
    "candidate_walks = (\n",
    "    (i, make_random_walk(first=start, last=stop, min_val=min_val, max_val=max_val, size=size))\n",
    "    for i in itertools.count()\n",
    ")\n",
    "# Filter out the invalid ones.\n",
    "valid_walks = ((i, w) for i, w in candidate_walks if w is not None)\n",
    "\n",
    "idx, walk = next(valid_walks)  # Get the next valid series\n",
    "print(\n",
    "    \"Walk #{}: min/max({:.2f}/{:.2f})\"\n",
    "    .format(idx, walk.min(), walk.max())\n",
    ")\n",
    "plt.plot(walk)\n",
    "plt.show"
   ]
  },
  {
   "cell_type": "markdown",
   "id": "d351f3a2-09ec-4a0f-92da-9770980ffbd1",
   "metadata": {
    "jp-MarkdownHeadingCollapsed": true,
    "tags": []
   },
   "source": [
    "#### Generating data with RW"
   ]
  },
  {
   "cell_type": "code",
   "execution_count": 160,
   "id": "0a9e7186-8bd5-4927-843c-1544e18a7333",
   "metadata": {},
   "outputs": [],
   "source": [
    "# saving the pseudo random lists\n",
    "spo2Absolute = walk[0:817]\n",
    "spo2AbsoluteInt = []\n",
    "for i in spo2Absolute:\n",
    "    spo2AbsoluteInt.append(int(i))\n",
    "\n",
    "co2Absolute = walk\n",
    "co2AbsoluteInt = []\n",
    "for i in co2Absolute:\n",
    "    co2AbsoluteInt.append(int(i))\n",
    "\n",
    "pleth_data = []\n",
    "for element in ekg_raw_data[3]:\n",
    "    pleth_data.append(element)\n",
    "for element in ekg_raw_data[3][len(ekg_raw_data[3])-153001:-1]:\n",
    "    pleth_data.append(element)\n",
    "\n",
    "thin_pleth = []\n",
    "for k,v in enumerate(pleth_data):\n",
    "    if ((k % 10) == 1):\n",
    "        thin_pleth.append(v)"
   ]
  },
  {
   "cell_type": "code",
   "execution_count": 165,
   "id": "dfcb20b9-2625-4d60-87d8-ca4819bd398c",
   "metadata": {},
   "outputs": [],
   "source": [
    "# storing list in between notebooks again\n",
    "%store spo2AbsoluteInt\n",
    "%store co2AbsoluteInt\n",
    "\n",
    "%store thin_hf\n",
    "%store thin_pleth"
   ]
  },
  {
   "cell_type": "markdown",
   "id": "47231820-540a-4d42-bc3d-122f60df5efd",
   "metadata": {
    "jp-MarkdownHeadingCollapsed": true,
    "tags": []
   },
   "source": [
    "#### We tried creating a type of heart attack with the given data"
   ]
  },
  {
   "cell_type": "code",
   "execution_count": 173,
   "id": "d67d719f-237c-49ae-9012-2309ccc4771a",
   "metadata": {},
   "outputs": [],
   "source": [
    "for i in range(75000):\n",
    "    herzflimmern.append(0)"
   ]
  },
  {
   "cell_type": "code",
   "execution_count": 175,
   "id": "9de3b966-dcb0-4e2d-8e9a-dcf122ed4157",
   "metadata": {},
   "outputs": [],
   "source": [
    "for k,v in enumerate(sma_ekg_2[90000:105000]):\n",
    "    herzflimmern.append(v)"
   ]
  },
  {
   "cell_type": "code",
   "execution_count": 111,
   "id": "79c73f5f-36e0-4974-9c7a-e17f028ab918",
   "metadata": {},
   "outputs": [],
   "source": [
    "import numpy as np\n",
    "\n",
    "noise = np.random.normal(0,1,45000)"
   ]
  },
  {
   "cell_type": "code",
   "execution_count": 126,
   "id": "71b918bf-0089-4318-82fa-50b7c2fb787d",
   "metadata": {},
   "outputs": [],
   "source": [
    "with_noise = 2*np.sin(kammerflimmern) + noise / 8"
   ]
  },
  {
   "cell_type": "code",
   "execution_count": 118,
   "id": "680ede2a-a433-4a93-a3d2-9d867051ab41",
   "metadata": {},
   "outputs": [],
   "source": [
    "import random\n",
    "for k,v in enumerate(noise):\n",
    "    noise[k] = bool(random.getrandbits(1)) * v"
   ]
  },
  {
   "cell_type": "code",
   "execution_count": 161,
   "id": "78149a2b-e314-4a03-a794-279b3d7cae26",
   "metadata": {},
   "outputs": [],
   "source": [
    "a = -0.000089\n",
    "b = 67\n",
    "n = -0.000060\n",
    "m = 80\n",
    "l = -0.000006\n",
    "q = 50\n",
    "c = 1\n",
    "d = 0\n",
    "\n",
    "y, p, dritte, g_curve = [], [], [], []\n",
    "x = 0\n",
    "for i in range(45000):\n",
    "    dritte.append((2*math.pi/q * (x - c)) + d)\n",
    "    y.append((2*math.pi/b * (x - c)) + d)\n",
    "    p.append((2*math.pi/m * (x - c)) + d)\n",
    "    x += 1"
   ]
  },
  {
   "cell_type": "code",
   "execution_count": 162,
   "id": "e97eb896-3713-412e-9f0d-534ef007314c",
   "metadata": {},
   "outputs": [],
   "source": [
    "f_curve = random.uniform(-0.000093, -0.000089)*np.sin(y)\n",
    "p_curve = random.uniform(-0.000063, -0.000060)*np.sin(p)\n",
    "t_curve = random.uniform(-0.000008, -0.000006)*np.sin(dritte)\n",
    "\n",
    "#for i in range(len(f_curve)):\n",
    "    #np.append(g_curve, f_curve[i] + p_curve[i] + t_curve[i])\n",
    "g_curve = f_curve + p_curve + t_curve"
   ]
  },
  {
   "cell_type": "code",
   "execution_count": null,
   "id": "c54bdee1-d2ca-4e27-b88f-0eeebced52c1",
   "metadata": {},
   "outputs": [],
   "source": [
    "\n",
    "plt.plot(g_curve[0:500])\n",
    "plt.show"
   ]
  },
  {
   "cell_type": "code",
   "execution_count": null,
   "id": "a2516725-0399-49e0-9e9e-30de00aa9a99",
   "metadata": {},
   "outputs": [],
   "source": [
    "for k,v in enumerate(g_curve):\n",
    "    herzflimmern.append(v)\n",
    "plt.plot(herzflimmern)\n",
    "plt.show"
   ]
  },
  {
   "cell_type": "markdown",
   "id": "4b9b9620-f6d1-48ab-b986-2bbf301f53bd",
   "metadata": {
    "jp-MarkdownHeadingCollapsed": true,
    "tags": []
   },
   "source": [
    "#### Writing to a json"
   ]
  },
  {
   "cell_type": "code",
   "execution_count": 200,
   "id": "48c1ee5d-1e8c-451e-a0cb-0fd9e0b84770",
   "metadata": {},
   "outputs": [],
   "source": [
    "with open('scenario4_data.json', 'w') as f:\n",
    "    json.dump({\"data\": data['data']}, f)"
   ]
  }
 ],
 "metadata": {
  "kernelspec": {
   "display_name": "Python 3 (ipykernel)",
   "language": "python",
   "name": "python3"
  },
  "language_info": {
   "codemirror_mode": {
    "name": "ipython",
    "version": 3
   },
   "file_extension": ".py",
   "mimetype": "text/x-python",
   "name": "python",
   "nbconvert_exporter": "python",
   "pygments_lexer": "ipython3",
   "version": "3.9.2"
  }
 },
 "nbformat": 4,
 "nbformat_minor": 5
}
