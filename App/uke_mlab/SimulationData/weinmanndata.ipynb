{
 "cells": [
  {
   "cell_type": "code",
   "execution_count": 2,
   "id": "bf862b9d-4ca5-4d36-a402-f77f1e18f4d4",
   "metadata": {},
   "outputs": [],
   "source": [
    "import matplotlib.pyplot as plt\n",
    "import numpy as np\n",
    "import json\n",
    "import math\n",
    "import random\n",
    "from matplotlib import colors as mcolors"
   ]
  },
  {
   "cell_type": "markdown",
   "id": "00a10610-67cd-4bd4-beee-5f3d137bece6",
   "metadata": {
    "tags": []
   },
   "source": [
    "### All of the data given by Weinmann we used to create the newest patient scenarios\n",
    "Becaue no one in our group really knows how to create a json file in c++ I have hand copied out all the data into a second ipynb. I have strored the several lists inbetween the notebooks to acces them here.<br/>\n",
    "##### To store data\n",
    "```python\n",
    "    %store myList\n",
    "```\n",
    "##### To retrieve data\n",
    "```python\n",
    "    %store -r myList\n",
    "```"
   ]
  },
  {
   "cell_type": "code",
   "execution_count": 3,
   "id": "46fc51ee-32fe-45c4-b3e9-a0e8db2085a1",
   "metadata": {},
   "outputs": [],
   "source": [
    "%store -r sinus_lead1\n",
    "%store -r sinus_lead2\n",
    "%store -r sinus_leadV1\n",
    "%store -r sinus_leadV2\n",
    "%store -r sinus_leadV3\n",
    "%store -r sinus_leadV4\n",
    "%store -r sinus_leadV5\n",
    "%store -r sinus_leadV6\n",
    "# kammerflimmern\n",
    "%store -r vfvt_lead1\n",
    "%store -r vfvt_lead2\n",
    "# besondere art von herzinfarkt (myocard infarkt)\n",
    "%store -r stemi_lead1\n",
    "%store -r stemi_lead2\n",
    "%store -r stemi_leadV1\n",
    "%store -r stemi_leadV2\n",
    "%store -r stemi_leadV3\n",
    "%store -r stemi_leadV4\n",
    "%store -r stemi_leadV5\n",
    "%store -r stemi_leadV6\n",
    "# tachy arithmya absoluta (herzrhythmusstörung)\n",
    "%store -r taa_lead1\n",
    "%store -r taa_lead2\n",
    "%store -r taa_leadV1\n",
    "%store -r taa_leadV2\n",
    "%store -r taa_leadV3\n",
    "%store -r taa_leadV4\n",
    "%store -r taa_leadV5\n",
    "%store -r taa_leadV6\n",
    "# from data_processing (first weinmann data)\n",
    "%store -r co2_data\n",
    "%store -r paw_data\n",
    "%store -r flow_data\n",
    "%store -r thin_pleth\n",
    "%store -r thin_hf\n",
    "%store -r spo2AbsoluteInt\n",
    "%store -r co2AbsoluteInt"
   ]
  },
  {
   "cell_type": "markdown",
   "id": "7a92d805-5cf5-4eff-becb-f904ed042629",
   "metadata": {},
   "source": [
    "##### Fast way of plotting some data to get a look at it"
   ]
  },
  {
   "cell_type": "code",
   "execution_count": 2,
   "id": "6643c72d-b016-4098-b430-a1f2a921b2d0",
   "metadata": {},
   "outputs": [],
   "source": [
    "def plot(x):\n",
    "    plt.plot(x)\n",
    "    plt.show"
   ]
  },
  {
   "cell_type": "markdown",
   "id": "1562be6e-0534-47ff-9193-0fb16a1d9034",
   "metadata": {},
   "source": [
    "##### Created some maps that have a specified structure"
   ]
  },
  {
   "cell_type": "code",
   "execution_count": 147,
   "id": "2dad33dd-764c-4863-b625-2d9b457b93f5",
   "metadata": {
    "tags": []
   },
   "outputs": [],
   "source": [
    "temp = [37.5,37.4,36.9,37.0,37.2]\n",
    "nibd = [[120,80],[124,82],[119,75],[115,74],[126,90],[123,86],[121,79]]"
   ]
  },
  {
   "cell_type": "code",
   "execution_count": 157,
   "id": "d126e19f-a057-4d2b-9206-d8889cea1386",
   "metadata": {
    "jupyter": {
     "source_hidden": true
    },
    "tags": []
   },
   "outputs": [],
   "source": [
    "standard_scenario = {\n",
    "    'channel_list': [\n",
    "        {\n",
    "            'data': list(paw_data),\n",
    "            'channel_information': {\n",
    "                'enum_identifier': 'paw',\n",
    "                'type': 'graph',\n",
    "                'resolution': {\n",
    "                    'value': 100,\n",
    "                    'resolutionUnit': 'Hz',\n",
    "                    'dataUnit': 'mBar',\n",
    "                },\n",
    "            },    \n",
    "        },\n",
    "        {\n",
    "            'data': list(flow_data),\n",
    "            'channel_information': {\n",
    "                'enum_identifier': 'flow',\n",
    "                'type': 'graph',\n",
    "                'resolution': {\n",
    "                    'value': 100,\n",
    "                    'resolutionUnit': 'Hz',\n",
    "                    'dataUnit': 'l/min',\n",
    "                },\n",
    "            },    \n",
    "        },\n",
    "        {\n",
    "            'data': list(co2_data),\n",
    "            'channel_information': {\n",
    "                'enum_identifier': 'co2',\n",
    "                'type': 'graph',\n",
    "                'resolution': {\n",
    "                    'value': 100,\n",
    "                    'resolutionUnit': 'Hz',\n",
    "                    'dataUnit': 'mmHg',\n",
    "                },\n",
    "            },    \n",
    "        },\n",
    "        {\n",
    "            'data': thin_pleth,\n",
    "            'channel_information': {\n",
    "                'enum_identifier': 'pleth',\n",
    "                'type': 'graph',\n",
    "                'resolution': {\n",
    "                    'value': 50,\n",
    "                    'resolutionUnit': 'Hz',\n",
    "                    'dataUnit': 'plt',\n",
    "                },\n",
    "            },    \n",
    "        },\n",
    "        {\n",
    "            'data': thin_hf[0:817],\n",
    "            'channel_information': {\n",
    "                'enum_identifier': 'hfAbsolute',\n",
    "                'type': 'absolute',\n",
    "                'resolution': {\n",
    "                    'value': 1,\n",
    "                    'resolutionUnit': 'Hz',\n",
    "                    'dataUnit': 'bpm',\n",
    "                },\n",
    "            },    \n",
    "        },\n",
    "        {\n",
    "            'data': ecgCh1,\n",
    "            'channel_information': {\n",
    "                'enum_identifier': 'ecgCh1',\n",
    "                'type': 'graph',\n",
    "                'resolution': {\n",
    "                    'value': 500,\n",
    "                    'resolutionUnit': 'Hz',\n",
    "                    'dataUnit': 'mV',\n",
    "                },\n",
    "            },    \n",
    "        },\n",
    "        {\n",
    "            'data': ecgCh2,\n",
    "            'channel_information': {\n",
    "                'enum_identifier': 'ecgCh2',\n",
    "                'type': 'graph',\n",
    "                'resolution': {\n",
    "                    'value': 500,\n",
    "                    'resolutionUnit': 'Hz',\n",
    "                    'dataUnit': 'mV',\n",
    "                },\n",
    "            },    \n",
    "        },\n",
    "        {\n",
    "            'data': temp,\n",
    "            'channel_information': {\n",
    "                'enum_identifier': 'tempAbsolute',\n",
    "                'type': 'absolute',\n",
    "                'resolution': {\n",
    "                    'value': 0.0056,\n",
    "                    'resolutionUnit': 'Hz',\n",
    "                    'dataUnit': '°C',\n",
    "                },\n",
    "            },    \n",
    "        },\n",
    "        {\n",
    "            'data': nibd,\n",
    "            'channel_information': {\n",
    "                'enum_identifier': 'nibdAbsolute',\n",
    "                'type': 'absolute',\n",
    "                'resolution': {\n",
    "                    'value': 0.008,\n",
    "                    'resolutionUnit': 'Hz',\n",
    "                    'dataUnit': 'mmHg',\n",
    "                },\n",
    "            },    \n",
    "        },\n",
    "        {\n",
    "            'data': spo2AbsoluteInt,\n",
    "            'channel_information': {\n",
    "                'enum_identifier': 'spo2Absolute',\n",
    "                'type': 'absolute',\n",
    "                'resolution': {\n",
    "                    'value': 1,\n",
    "                    'resolutionUnit': 'Hz',\n",
    "                    'dataUnit': 'mmHg',\n",
    "                },\n",
    "            },    \n",
    "        },\n",
    "        {\n",
    "            'data': co2AbsoluteInt,\n",
    "            'channel_information': {\n",
    "                'enum_identifier': 'co2Absolute',\n",
    "                'type': 'absolute',\n",
    "                'resolution': {\n",
    "                    'value': 1,\n",
    "                    'resolutionUnit': 'Hz',\n",
    "                    'dataUnit': 'mmHg',\n",
    "                },\n",
    "            },    \n",
    "        },\n",
    "    ],\n",
    "    'scenario_information': {\n",
    "        'duration': {\n",
    "        'length': 817,\n",
    "        'unit': 'seconds',\n",
    "        },\n",
    "    },\n",
    "}"
   ]
  },
  {
   "cell_type": "code",
   "execution_count": 40,
   "id": "db5ed73a-7116-4c7e-8131-6ce990413419",
   "metadata": {
    "jupyter": {
     "source_hidden": true
    },
    "tags": []
   },
   "outputs": [],
   "source": [
    "scenario_1 = {\n",
    "    'channel_list': [\n",
    "        {\n",
    "            'data': thin_pleth[0:25000],\n",
    "            'channel_information': {\n",
    "                'enum_identifier': 'pleth',\n",
    "                'type': 'graph',\n",
    "                'resolution': {\n",
    "                    'value': 50,\n",
    "                    'resolutionUnit': 'Hz',\n",
    "                    'dataUnit': 'plt',\n",
    "                },\n",
    "            },    \n",
    "        },\n",
    "        {\n",
    "            'data': scenario1_hf,\n",
    "            'channel_information': {\n",
    "                'enum_identifier': 'hfAbsolute',\n",
    "                'type': 'absolute',\n",
    "                'resolution': {\n",
    "                    'value': 1,\n",
    "                    'resolutionUnit': 'Hz',\n",
    "                    'dataUnit': 'bpm',\n",
    "                },\n",
    "            },    \n",
    "        },\n",
    "        {\n",
    "            'data': ecgCh1,\n",
    "            'channel_information': {\n",
    "                'enum_identifier': 'ecgCh1',\n",
    "                'type': 'graph',\n",
    "                'resolution': {\n",
    "                    'value': 1000,\n",
    "                    'resolutionUnit': 'Hz',\n",
    "                    'dataUnit': 'mV',\n",
    "                },\n",
    "            },    \n",
    "        },\n",
    "        {\n",
    "            'data': ecgCh2,\n",
    "            'channel_information': {\n",
    "                'enum_identifier': 'ecgCh2',\n",
    "                'type': 'graph',\n",
    "                'resolution': {\n",
    "                    'value': 1000,\n",
    "                    'resolutionUnit': 'Hz',\n",
    "                    'dataUnit': 'mV',\n",
    "                },\n",
    "            },    \n",
    "        },\n",
    "        {\n",
    "            'data': scenario1_nibd,\n",
    "            'channel_information': {\n",
    "                'enum_identifier': 'nibdAbsolute',\n",
    "                'type': 'absolute',\n",
    "                'arraypos0': 'systolic',\n",
    "                'arraypos1': 'diastolic',\n",
    "                'resolution': {\n",
    "                    'value': 0.008,\n",
    "                    'resolutionUnit': 'Hz',\n",
    "                    'dataUnit': 'mmHg',\n",
    "                },\n",
    "            },    \n",
    "        },\n",
    "        {\n",
    "            'data': scenario1_spo2,\n",
    "            'channel_information': {\n",
    "                'enum_identifier': 'spo2Absolute',\n",
    "                'type': 'absolute',\n",
    "                'resolution': {\n",
    "                    'value': 1,\n",
    "                    'resolutionUnit': 'Hz',\n",
    "                    'dataUnit': 'mmHg',\n",
    "                },\n",
    "            },    \n",
    "        },\n",
    "    ],\n",
    "    'scenario_information': {\n",
    "        'duration': {\n",
    "        'length': 500,\n",
    "        'unit': 'seconds',\n",
    "        },\n",
    "    },\n",
    "}"
   ]
  },
  {
   "cell_type": "code",
   "execution_count": 49,
   "id": "68d77eb9-8d30-4fe3-9a21-49c06e8e94d6",
   "metadata": {
    "jupyter": {
     "source_hidden": true
    },
    "tags": []
   },
   "outputs": [],
   "source": [
    "scenario2_hf = []\n",
    "for element in scenario2_data['data'][0]['data']:\n",
    "    scenario2_hf.append(int(element))\n",
    "\n",
    "scenario2_spo2, scenario2_co2, nibd = [], [], []\n",
    "for element in scenario2_data['data'][1]['data']:\n",
    "    scenario2_spo2.append(int(element))\n",
    "for element in scenario2_data['data'][2]['data']:\n",
    "    scenario2_co2.append(int(element))\n",
    "for element in scenario2_data['data'][3]['data']:\n",
    "    nibd.append(element)"
   ]
  },
  {
   "cell_type": "code",
   "execution_count": 107,
   "id": "574518ae-2070-4588-a4af-3d1f67f841ea",
   "metadata": {
    "jupyter": {
     "source_hidden": true
    },
    "tags": []
   },
   "outputs": [],
   "source": [
    "scenario_2 = {\n",
    "    'channel_list': [\n",
    "        {\n",
    "            'data': co2_data[0:50000],\n",
    "            'channel_information': {\n",
    "                'enum_identifier': 'co2',\n",
    "                'type': 'graph',\n",
    "                'resolution': {\n",
    "                    'value': 100,\n",
    "                    'resolutionUnit': 'Hz',\n",
    "                    'dataUnit': 'mmHg',\n",
    "                },\n",
    "            },    \n",
    "        },\n",
    "        {\n",
    "            'data': thin_pleth[0:25000],\n",
    "            'channel_information': {\n",
    "                'enum_identifier': 'pleth',\n",
    "                'type': 'graph',\n",
    "                'resolution': {\n",
    "                    'value': 50,\n",
    "                    'resolutionUnit': 'Hz',\n",
    "                    'dataUnit': 'plt',\n",
    "                },\n",
    "            },    \n",
    "        },\n",
    "        {\n",
    "            'data': scenario2_hf,\n",
    "            'channel_information': {\n",
    "                'enum_identifier': 'hfAbsolute',\n",
    "                'type': 'absolute',\n",
    "                'resolution': {\n",
    "                    'value': 1,\n",
    "                    'resolutionUnit': 'Hz',\n",
    "                    'dataUnit': 'bpm',\n",
    "                },\n",
    "            },    \n",
    "        },\n",
    "        {\n",
    "            'data': ecgCh1,\n",
    "            'channel_information': {\n",
    "                'enum_identifier': 'ecgCh1',\n",
    "                'type': 'graph',\n",
    "                'resolution': {\n",
    "                    'value': 1000,\n",
    "                    'resolutionUnit': 'Hz',\n",
    "                    'dataUnit': 'mV',\n",
    "                },\n",
    "            },    \n",
    "        },\n",
    "        {\n",
    "            'data': ecgCh2,\n",
    "            'channel_information': {\n",
    "                'enum_identifier': 'ecgCh2',\n",
    "                'type': 'graph',\n",
    "                'resolution': {\n",
    "                    'value': 1000,\n",
    "                    'resolutionUnit': 'Hz',\n",
    "                    'dataUnit': 'mV',\n",
    "                },\n",
    "            },    \n",
    "        },\n",
    "        {\n",
    "            'data': nibd,\n",
    "            'channel_information': {\n",
    "                'enum_identifier': 'nibdAbsolute',\n",
    "                'type': 'absolute',\n",
    "                'resolution': {\n",
    "                    'value': 0.008,\n",
    "                    'resolutionUnit': 'Hz',\n",
    "                    'dataUnit': 'mmHg',\n",
    "                },\n",
    "            },    \n",
    "        },\n",
    "        {\n",
    "            'data': scenario2_spo2,\n",
    "            'channel_information': {\n",
    "                'enum_identifier': 'spo2Absolute',\n",
    "                'type': 'absolute',\n",
    "                'resolution': {\n",
    "                    'value': 1,\n",
    "                    'resolutionUnit': 'Hz',\n",
    "                    'dataUnit': 'mmHg',\n",
    "                },\n",
    "            },    \n",
    "        },\n",
    "        {\n",
    "            'data': scenario2_co2,\n",
    "            'channel_information': {\n",
    "                'enum_identifier': 'co2Absolute',\n",
    "                'type': 'absolute',\n",
    "                'resolution': {\n",
    "                    'value': 1,\n",
    "                    'resolutionUnit': 'Hz',\n",
    "                    'dataUnit': 'mmHg',\n",
    "                },\n",
    "            },    \n",
    "        },\n",
    "    ],\n",
    "    'scenario_information': {\n",
    "        'duration': {\n",
    "        'length': 500,\n",
    "        'unit': 'seconds',\n",
    "        },\n",
    "    },\n",
    "}"
   ]
  },
  {
   "cell_type": "code",
   "execution_count": 16,
   "id": "4568cd57-614f-476f-ac18-675ece1982d8",
   "metadata": {
    "jupyter": {
     "source_hidden": true
    },
    "tags": []
   },
   "outputs": [],
   "source": [
    "scenario1_hf = []\n",
    "for element in scenario1_data['data'][0]['data']:\n",
    "    scenario1_hf.append(int(element))\n",
    "\n",
    "scenario1_spo2 = []\n",
    "for element in scenario1_data['data'][1]['data']:\n",
    "    scenario1_spo2.append(int(element))"
   ]
  },
  {
   "cell_type": "code",
   "execution_count": 173,
   "id": "46963092-fc50-4eb0-b994-073ff70f7a56",
   "metadata": {
    "jupyter": {
     "source_hidden": true
    },
    "tags": []
   },
   "outputs": [],
   "source": [
    "scenario_3_a = {\n",
    "    'channel_list': [\n",
    "        {\n",
    "            'data': co2_data[0:50000],\n",
    "            'channel_information': {\n",
    "                'enum_identifier': 'co2',\n",
    "                'type': 'graph',\n",
    "                'resolution': {\n",
    "                    'value': 100,\n",
    "                    'resolutionUnit': 'Hz',\n",
    "                    'dataUnit': 'mmHg',\n",
    "                },\n",
    "            },    \n",
    "        },\n",
    "        {\n",
    "            'data': thin_pleth[0:25000],\n",
    "            'channel_information': {\n",
    "                'enum_identifier': 'pleth',\n",
    "                'type': 'graph',\n",
    "                'resolution': {\n",
    "                    'value': 50,\n",
    "                    'resolutionUnit': 'Hz',\n",
    "                    'dataUnit': 'plt',\n",
    "                },\n",
    "            },    \n",
    "        },\n",
    "        {\n",
    "            'data': s3_a_hf,\n",
    "            'channel_information': {\n",
    "                'enum_identifier': 'hfAbsolute',\n",
    "                'type': 'absolute',\n",
    "                'resolution': {\n",
    "                    'value': 1,\n",
    "                    'resolutionUnit': 'Hz',\n",
    "                    'dataUnit': 'bpm',\n",
    "                },\n",
    "            },    \n",
    "        },\n",
    "        {\n",
    "            'data': cpr,\n",
    "            'channel_information': {\n",
    "                'enum_identifier': 'cpr',\n",
    "                'type': 'graph',\n",
    "                'resolution': {\n",
    "                    'value': 2,\n",
    "                    'resolutionUnit': 'Hz',\n",
    "                    'dataUnit': 'cm',\n",
    "                },\n",
    "            },    \n",
    "        },\n",
    "        {\n",
    "            'data': s3_a_ecg[0:250000],\n",
    "            'channel_information': {\n",
    "                'enum_identifier': 'ecgCh2',\n",
    "                'type': 'graph',\n",
    "                'resolution': {\n",
    "                    'value': 500,\n",
    "                    'resolutionUnit': 'Hz',\n",
    "                    'dataUnit': 'mV',\n",
    "                },\n",
    "            },    \n",
    "        },\n",
    "        {\n",
    "            'data': s3_a_nibd,\n",
    "            'channel_information': {\n",
    "                'enum_identifier': 'nibdAbsolute',\n",
    "                'type': 'absolute',\n",
    "                'resolution': {\n",
    "                    'value': 0.008,\n",
    "                    'resolutionUnit': 'Hz',\n",
    "                    'dataUnit': 'mmHg',\n",
    "                },\n",
    "            },    \n",
    "        },\n",
    "        {\n",
    "            'data': s3_a_spo2,\n",
    "            'channel_information': {\n",
    "                'enum_identifier': 'spo2Absolute',\n",
    "                'type': 'absolute',\n",
    "                'resolution': {\n",
    "                    'value': 1,\n",
    "                    'resolutionUnit': 'Hz',\n",
    "                    'dataUnit': 'mmHg',\n",
    "                },\n",
    "            },    \n",
    "        },\n",
    "        {\n",
    "            'data': s3_a_co2,\n",
    "            'channel_information': {\n",
    "                'enum_identifier': 'co2Absolute',\n",
    "                'type': 'absolute',\n",
    "                'resolution': {\n",
    "                    'value': 1,\n",
    "                    'resolutionUnit': 'Hz',\n",
    "                    'dataUnit': 'mmHg',\n",
    "                },\n",
    "            },    \n",
    "        },\n",
    "    ],\n",
    "    'scenario_information': {\n",
    "        'duration': {\n",
    "        'length': 500,\n",
    "        'unit': 'seconds',\n",
    "        },\n",
    "    },\n",
    "}"
   ]
  },
  {
   "cell_type": "code",
   "execution_count": 20,
   "id": "d9028f27-9d40-4a53-9c57-378999a0773e",
   "metadata": {
    "jupyter": {
     "source_hidden": true
    },
    "tags": []
   },
   "outputs": [],
   "source": [
    "scenario1_nibd = scenario1_data['data'][2]['data']"
   ]
  },
  {
   "cell_type": "code",
   "execution_count": 59,
   "id": "e74cb6a4-04d2-4881-9851-7fd633be8dc2",
   "metadata": {
    "tags": []
   },
   "outputs": [],
   "source": [
    "# Calculates the simple moving average\n",
    "# We use this function for noise reduction in our data\n",
    "def simple_moving_avg(data, n):\n",
    "    averaged = []\n",
    "    for i in range(len(data)):\n",
    "        temp_value = 0\n",
    "        for j in range(n):\n",
    "            # no check for loopback when i-j < 0\n",
    "            temp_value += data[i-j]\n",
    "        averaged.append(1/n * temp_value)\n",
    "    return averaged\n",
    "     \n",
    "# Example call for simple_moving_avg\n",
    "# avg = simple_moving_avg(dictionarylist[5][\"data\"], 10)"
   ]
  },
  {
   "cell_type": "code",
   "execution_count": 57,
   "id": "0690293b-0810-42f6-b809-53cc6d97c69b",
   "metadata": {
    "tags": []
   },
   "outputs": [],
   "source": [
    "co2_data = co2_data * 7.50062"
   ]
  },
  {
   "cell_type": "code",
   "execution_count": 60,
   "id": "ee42e694-4de3-4a9a-998a-a0fe4e28016a",
   "metadata": {
    "tags": []
   },
   "outputs": [],
   "source": [
    "co2_data = simple_moving_avg(co2_data, 10)"
   ]
  },
  {
   "cell_type": "code",
   "execution_count": 98,
   "id": "5fc17f5a-d9e5-423e-8773-06e943af3189",
   "metadata": {},
   "outputs": [
    {
     "data": {
      "text/plain": [
       "<function matplotlib.pyplot.show(close=None, block=None)>"
      ]
     },
     "execution_count": 98,
     "metadata": {},
     "output_type": "execute_result"
    },
    {
     "data": {
      "image/png": "[encoded data removed]",
      "text/plain": [
       "<Figure size 432x288 with 1 Axes>"
      ]
     },
     "metadata": {
      "needs_background": "light"
     },
     "output_type": "display_data"
    }
   ],
   "source": [
    "for k,v in enumerate(co2_data):\n",
    "    if v < 1:\n",
    "        co2_data[k] = 0\n",
    "plt.plot(co2_data[0:10000])\n",
    "plt.show"
   ]
  },
  {
   "cell_type": "code",
   "execution_count": 28,
   "id": "6d097379-80a5-48c1-af82-66abf6060d83",
   "metadata": {},
   "outputs": [],
   "source": [
    "ecgCh1 = []\n",
    "for i in range(2000):\n",
    "    for element in sinus_lead1:\n",
    "        ecgCh1.append(element/1000)"
   ]
  },
  {
   "cell_type": "code",
   "execution_count": 29,
   "id": "c5dca9e6-599c-4db5-8625-8ac34126f22c",
   "metadata": {},
   "outputs": [],
   "source": [
    "ecgCh2 = []\n",
    "for i in range(2000):\n",
    "    for element in sinus_lead2:\n",
    "        ecgCh2.append(element/1000)"
   ]
  },
  {
   "cell_type": "code",
   "execution_count": 30,
   "id": "09b30943-a3cb-4c4f-833a-b170530757aa",
   "metadata": {},
   "outputs": [],
   "source": [
    "ecgCh1 = ecgCh1[0:500000]"
   ]
  },
  {
   "cell_type": "code",
   "execution_count": 34,
   "id": "d5588191-f506-42b9-8f0b-32cc4c494cd8",
   "metadata": {},
   "outputs": [
    {
     "data": {
      "text/plain": [
       "500000"
      ]
     },
     "execution_count": 34,
     "metadata": {},
     "output_type": "execute_result"
    }
   ],
   "source": [
    "len(ecgCh2)"
   ]
  },
  {
   "cell_type": "code",
   "execution_count": 33,
   "id": "6324f592-4112-45ae-895a-a153990b4d13",
   "metadata": {},
   "outputs": [],
   "source": [
    "ecgCh2 = ecgCh2[0:500000]"
   ]
  },
  {
   "cell_type": "code",
   "execution_count": 145,
   "id": "62478479-2fd9-47f3-bad0-24f0bb84043c",
   "metadata": {},
   "outputs": [
    {
     "data": {
      "text/plain": [
       "<function matplotlib.pyplot.show(close=None, block=None)>"
      ]
     },
     "execution_count": 145,
     "metadata": {},
     "output_type": "execute_result"
    },
    {
     "data": {
      "image/png": "[encoded data removed]",
      "text/plain": [
       "<Figure size 432x288 with 1 Axes>"
      ]
     },
     "metadata": {
      "needs_background": "light"
     },
     "output_type": "display_data"
    }
   ],
   "source": [
    "plt.plot(ecgCh1[10020:10490])\n",
    "plt.show"
   ]
  },
  {
   "cell_type": "code",
   "execution_count": 4,
   "id": "80ff5a18-4802-44b6-907a-19d9584c0cf0",
   "metadata": {},
   "outputs": [
    {
     "data": {
      "text/plain": [
       "<function matplotlib.pyplot.show(close=None, block=None)>"
      ]
     },
     "execution_count": 4,
     "metadata": {},
     "output_type": "execute_result"
    },
    {
     "data": {
      "image/png": "[encoded data removed]",
      "text/plain": [
       "<Figure size 432x288 with 1 Axes>"
      ]
     },
     "metadata": {
      "needs_background": "light"
     },
     "output_type": "display_data"
    }
   ],
   "source": [
    "plt.plot(sinus_lead2)\n",
    "plt.show"
   ]
  },
  {
   "cell_type": "code",
   "execution_count": 6,
   "id": "a480e032-3787-4461-a865-b42165fc83cf",
   "metadata": {},
   "outputs": [
    {
     "data": {
      "text/plain": [
       "15429"
      ]
     },
     "execution_count": 6,
     "metadata": {},
     "output_type": "execute_result"
    }
   ],
   "source": [
    "37*len(sinus_lead2)"
   ]
  },
  {
   "cell_type": "code",
   "execution_count": 171,
   "id": "f6960fca-6c67-4779-a3f6-494b391cc54e",
   "metadata": {},
   "outputs": [
    {
     "data": {
      "text/plain": [
       "{'value': 100, 'resolutionUnit': 'Hz', 'dataUnit': 'mBar'}"
      ]
     },
     "execution_count": 171,
     "metadata": {},
     "output_type": "execute_result"
    }
   ],
   "source": [
    "standard_scenario['channel_list'][0]['channel_information']['resolution']"
   ]
  },
  {
   "cell_type": "code",
   "execution_count": 222,
   "id": "1cfa6446-eeb6-41e8-87b5-9577c72a64a2",
   "metadata": {},
   "outputs": [],
   "source": [
    "# read json\n",
    "with open('scenario4_data.json') as f:\n",
    "  scenario4_data = json.load(f)"
   ]
  },
  {
   "cell_type": "code",
   "execution_count": 242,
   "id": "60ae4e43-e48c-4dc9-803d-aea2526404e6",
   "metadata": {},
   "outputs": [],
   "source": [
    "# write to json\n",
    "with open('scenario_4.json', 'w') as f:\n",
    "    json.dump(scenario_4, f)"
   ]
  },
  {
   "cell_type": "code",
   "execution_count": 157,
   "id": "677f7b08-3008-4578-8e53-3089c7454cb0",
   "metadata": {},
   "outputs": [],
   "source": [
    "s3_a_hf, s3_a_spo2, s3_a_co2, s3_a_nibd = [], [], [], []\n",
    "for i in scenario3_a_data['data'][0]['data']:\n",
    "    s3_a_hf.append(int(i))\n",
    "for i in scenario3_a_data['data'][1]['data']:\n",
    "    s3_a_spo2.append(int(i))\n",
    "for i in scenario3_a_data['data'][2]['data']:\n",
    "    s3_a_co2.append(int(i))\n",
    "for i in scenario3_a_data['data'][3]['data']:\n",
    "    s3_a_nibd.append(i)"
   ]
  },
  {
   "cell_type": "code",
   "execution_count": 166,
   "id": "f3f863b2-17aa-4428-b6d0-a544f7354cae",
   "metadata": {},
   "outputs": [],
   "source": [
    "s3_a_ecg = []\n",
    "for i in range(37):\n",
    "    for element in sinus_lead2:\n",
    "        s3_a_ecg.append(element/1000)\n",
    "for i in range(75000):\n",
    "    s3_a_ecg.append(0)\n",
    "for i in range(37):\n",
    "    for element in sinus_lead2:\n",
    "        s3_a_ecg.append(element/1000)\n",
    "for i in range(47):\n",
    "    for element in vfvt_lead2:\n",
    "        s3_a_ecg.append(element/1000)"
   ]
  },
  {
   "cell_type": "code",
   "execution_count": 169,
   "id": "180a0b7d-9bc9-4221-92b3-eb09ff063d43",
   "metadata": {},
   "outputs": [
    {
     "data": {
      "text/plain": [
       "250000"
      ]
     },
     "execution_count": 169,
     "metadata": {},
     "output_type": "execute_result"
    }
   ],
   "source": [
    "len(s3_a_ecg[0:250000])"
   ]
  },
  {
   "cell_type": "code",
   "execution_count": 172,
   "id": "34b88759-1329-4302-84d2-45fae5fdb7c0",
   "metadata": {},
   "outputs": [
    {
     "data": {
      "text/plain": [
       "<function matplotlib.pyplot.show(close=None, block=None)>"
      ]
     },
     "execution_count": 172,
     "metadata": {},
     "output_type": "execute_result"
    },
    {
     "data": {
      "image/png": "[encoded data removed]",
      "text/plain": [
       "<Figure size 432x288 with 1 Axes>"
      ]
     },
     "metadata": {
      "needs_background": "light"
     },
     "output_type": "display_data"
    }
   ],
   "source": [
    "plt.plot(s3_a_ecg[150000:151000])\n",
    "plt.show"
   ]
  },
  {
   "cell_type": "code",
   "execution_count": 207,
   "id": "a3d6ecec-fa17-4dea-8edf-6b908f473938",
   "metadata": {},
   "outputs": [
    {
     "data": {
      "text/plain": [
       "3082"
      ]
     },
     "execution_count": 207,
     "metadata": {},
     "output_type": "execute_result"
    }
   ],
   "source": [
    "len(vfvt_lead1)"
   ]
  },
  {
   "cell_type": "code",
   "execution_count": 147,
   "id": "81acd36d-b096-4893-9257-be3794ec1878",
   "metadata": {},
   "outputs": [],
   "source": [
    "cpr = []\n",
    "for i in range(1000):\n",
    "    cpr.append(random.uniform(4.5,6.5))\n",
    "colors = []\n",
    "for i in cpr:\n",
    "    if 5 <= i <= 6 :\n",
    "        colors.append('#34C759')\n",
    "    else:\n",
    "        colors.append('#FF3B30')"
   ]
  },
  {
   "cell_type": "code",
   "execution_count": 148,
   "id": "c1d81fa7-41d2-4408-bef3-d141d1fbdf58",
   "metadata": {},
   "outputs": [
    {
     "data": {
      "text/plain": [
       "<BarContainer object of 1000 artists>"
      ]
     },
     "execution_count": 148,
     "metadata": {},
     "output_type": "execute_result"
    },
    {
     "data": {
      "image/png": "[encoded data removed]",
      "text/plain": [
       "<Figure size 432x288 with 1 Axes>"
      ]
     },
     "metadata": {
      "needs_background": "light"
     },
     "output_type": "display_data"
    }
   ],
   "source": [
    "x=range(len(cpr))\n",
    "y=cpr\n",
    "plt.figure()\n",
    "plt.bar(x,y,color=colors)"
   ]
  },
  {
   "cell_type": "code",
   "execution_count": 131,
   "id": "78cf25e2-0f80-4454-b841-c59c03a52d16",
   "metadata": {},
   "outputs": [],
   "source": [
    "colors = dict(mcolors.BASE_COLORS, **mcolors.CSS4_COLORS)"
   ]
  },
  {
   "cell_type": "code",
   "execution_count": 134,
   "id": "6a90df34-5c48-40d4-b27e-c7e131e38ffc",
   "metadata": {},
   "outputs": [
    {
     "data": {
      "text/plain": [
       "'#00FF00'"
      ]
     },
     "execution_count": 134,
     "metadata": {},
     "output_type": "execute_result"
    }
   ],
   "source": [
    "colors['lime']"
   ]
  },
  {
   "cell_type": "code",
   "execution_count": 205,
   "id": "89fecbbf-608a-4034-a77e-6668a4c08e5d",
   "metadata": {
    "jupyter": {
     "source_hidden": true
    },
    "tags": []
   },
   "outputs": [],
   "source": [
    "scenario_3_b = {\n",
    "    'channel_list': [\n",
    "        {\n",
    "            'data': co2_data[0:50000],\n",
    "            'channel_information': {\n",
    "                'enum_identifier': 'co2',\n",
    "                'type': 'graph',\n",
    "                'resolution': {\n",
    "                    'value': 100,\n",
    "                    'resolutionUnit': 'Hz',\n",
    "                    'dataUnit': 'mmHg',\n",
    "                },\n",
    "            },    \n",
    "        },\n",
    "        {\n",
    "            'data': thin_pleth[0:25000],\n",
    "            'channel_information': {\n",
    "                'enum_identifier': 'pleth',\n",
    "                'type': 'graph',\n",
    "                'resolution': {\n",
    "                    'value': 50,\n",
    "                    'resolutionUnit': 'Hz',\n",
    "                    'dataUnit': 'plt',\n",
    "                },\n",
    "            },    \n",
    "        },\n",
    "        {\n",
    "            'data': s3b_hf,\n",
    "            'channel_information': {\n",
    "                'enum_identifier': 'hfAbsolute',\n",
    "                'type': 'absolute',\n",
    "                'resolution': {\n",
    "                    'value': 1,\n",
    "                    'resolutionUnit': 'Hz',\n",
    "                    'dataUnit': 'bpm',\n",
    "                },\n",
    "            },    \n",
    "        },\n",
    "        {\n",
    "            'data': ecgCh2,\n",
    "            'channel_information': {\n",
    "                'enum_identifier': 'ecgCh2',\n",
    "                'type': 'graph',\n",
    "                'resolution': {\n",
    "                    'value': 1000,\n",
    "                    'resolutionUnit': 'Hz',\n",
    "                    'dataUnit': 'mV',\n",
    "                },\n",
    "            },    \n",
    "        },\n",
    "        {\n",
    "            'data': s3b_nibd,\n",
    "            'channel_information': {\n",
    "                'enum_identifier': 'nibdAbsolute',\n",
    "                'type': 'absolute',\n",
    "                'resolution': {\n",
    "                    'value': 0.008,\n",
    "                    'resolutionUnit': 'Hz',\n",
    "                    'dataUnit': 'mmHg',\n",
    "                },\n",
    "            },    \n",
    "        },\n",
    "        {\n",
    "            'data': s3b_spo2,\n",
    "            'channel_information': {\n",
    "                'enum_identifier': 'spo2Absolute',\n",
    "                'type': 'absolute',\n",
    "                'resolution': {\n",
    "                    'value': 1,\n",
    "                    'resolutionUnit': 'Hz',\n",
    "                    'dataUnit': 'mmHg',\n",
    "                },\n",
    "            },    \n",
    "        },\n",
    "        {\n",
    "            'data': s3b_co2,\n",
    "            'channel_information': {\n",
    "                'enum_identifier': 'co2Absolute',\n",
    "                'type': 'absolute',\n",
    "                'resolution': {\n",
    "                    'value': 1,\n",
    "                    'resolutionUnit': 'Hz',\n",
    "                    'dataUnit': 'mmHg',\n",
    "                },\n",
    "            },    \n",
    "        },\n",
    "    ],\n",
    "    'scenario_information': {\n",
    "        'duration': {\n",
    "        'length': 500,\n",
    "        'unit': 'seconds',\n",
    "        },\n",
    "    },\n",
    "}"
   ]
  },
  {
   "cell_type": "code",
   "execution_count": 187,
   "id": "76cc6039-9751-43e8-8024-e85eb148a408",
   "metadata": {},
   "outputs": [],
   "source": [
    "s3b_hf, s3b_spo2, s3b_co2, s3b_nibd = [], [], [], []\n",
    "for i in scenario3_b_data['data'][0]['data']:\n",
    "    s3b_hf.append(int(i))\n",
    "for i in scenario3_b_data['data'][1]['data']:\n",
    "    s3b_spo2.append(int(i))\n",
    "for i in scenario3_b_data['data'][2]['data']:\n",
    "    s3b_co2.append(int(i))\n",
    "for i in scenario3_b_data['data'][3]['data']:\n",
    "    s3b_nibd.append(i)"
   ]
  },
  {
   "cell_type": "code",
   "execution_count": 208,
   "id": "5a5677ed-ea15-41e7-8606-04868442849a",
   "metadata": {},
   "outputs": [],
   "source": [
    "s3c_ecg = []\n",
    "for j in range(82):\n",
    "    for i in vfvt_lead1:\n",
    "        s3c_ecg.append(i)"
   ]
  },
  {
   "cell_type": "code",
   "execution_count": 209,
   "id": "18e4c544-9e10-4d19-ba1b-80cecc3f6356",
   "metadata": {},
   "outputs": [
    {
     "data": {
      "text/plain": [
       "252724"
      ]
     },
     "execution_count": 209,
     "metadata": {},
     "output_type": "execute_result"
    }
   ],
   "source": [
    "len(s3c_ecg)"
   ]
  },
  {
   "cell_type": "code",
   "execution_count": 210,
   "id": "a479ae9e-485e-4a43-8e9f-76d54de7e4c9",
   "metadata": {},
   "outputs": [
    {
     "data": {
      "text/plain": [
       "250000"
      ]
     },
     "execution_count": 210,
     "metadata": {},
     "output_type": "execute_result"
    }
   ],
   "source": [
    "len(ecgCh2[0:250000])"
   ]
  },
  {
   "cell_type": "code",
   "execution_count": 194,
   "id": "8bcd965e-6749-4a03-94c8-4668ddf661de",
   "metadata": {},
   "outputs": [
    {
     "data": {
      "image/png": "[encoded data removed]",
      "text/plain": [
       "<Figure size 432x288 with 1 Axes>"
      ]
     },
     "metadata": {
      "needs_background": "light"
     },
     "output_type": "display_data"
    }
   ],
   "source": [
    "plot(ecgCh2[0:250000])"
   ]
  },
  {
   "cell_type": "code",
   "execution_count": 200,
   "id": "941ef6bc-cfb9-4ef3-900a-0eb4e098d4b5",
   "metadata": {},
   "outputs": [],
   "source": [
    "s3c_hf, s3c_spo2, s3c_co2, s3c_nibd = [], [], [], []\n",
    "for i in scenario3_c_data['data'][0]['data']:\n",
    "    s3c_hf.append(int(i))\n",
    "for i in scenario3_c_data['data'][1]['data']:\n",
    "    s3c_spo2.append(int(i))\n",
    "for i in scenario3_c_data['data'][2]['data']:\n",
    "    s3c_co2.append(int(i))\n",
    "for i in scenario3_c_data['data'][3]['data']:\n",
    "    s3c_nibd.append(i)"
   ]
  },
  {
   "cell_type": "code",
   "execution_count": 204,
   "id": "f1deeb23-ad01-483b-a524-e5649011e1cb",
   "metadata": {},
   "outputs": [
    {
     "data": {
      "image/png": "[encoded data removed]",
      "text/plain": [
       "<Figure size 432x288 with 1 Axes>"
      ]
     },
     "metadata": {
      "needs_background": "light"
     },
     "output_type": "display_data"
    }
   ],
   "source": [
    "plot(s3c_nibd)"
   ]
  },
  {
   "cell_type": "code",
   "execution_count": 219,
   "id": "25bafe88-af5b-4e6d-b682-9c3e41ca267c",
   "metadata": {
    "jupyter": {
     "source_hidden": true
    },
    "tags": []
   },
   "outputs": [],
   "source": [
    "scenario_3_c = {\n",
    "    'channel_list': [\n",
    "        {\n",
    "            'data': co2_data[0:50000],\n",
    "            'channel_information': {\n",
    "                'enum_identifier': 'co2',\n",
    "                'type': 'graph',\n",
    "                'resolution': {\n",
    "                    'value': 100,\n",
    "                    'resolutionUnit': 'Hz',\n",
    "                    'dataUnit': 'mmHg',\n",
    "                },\n",
    "            },    \n",
    "        },\n",
    "        {\n",
    "            'data': thin_pleth[0:25000],\n",
    "            'channel_information': {\n",
    "                'enum_identifier': 'pleth',\n",
    "                'type': 'graph',\n",
    "                'resolution': {\n",
    "                    'value': 50,\n",
    "                    'resolutionUnit': 'Hz',\n",
    "                    'dataUnit': 'plt',\n",
    "                },\n",
    "            },    \n",
    "        },\n",
    "        {\n",
    "            'data': s3c_hf,\n",
    "            'channel_information': {\n",
    "                'enum_identifier': 'hfAbsolute',\n",
    "                'type': 'absolute',\n",
    "                'resolution': {\n",
    "                    'value': 1,\n",
    "                    'resolutionUnit': 'Hz',\n",
    "                    'dataUnit': 'bpm',\n",
    "                },\n",
    "            },    \n",
    "        },\n",
    "        {\n",
    "            'data': ecgCh2[0:250000],\n",
    "            'channel_information': {\n",
    "                'enum_identifier': 'ecgCh2',\n",
    "                'type': 'graph',\n",
    "                'resolution': {\n",
    "                    'value': 500,\n",
    "                    'resolutionUnit': 'Hz',\n",
    "                    'dataUnit': 'mV',\n",
    "                },\n",
    "            },    \n",
    "        },\n",
    "        {\n",
    "            'data': s3c_nibd,\n",
    "            'channel_information': {\n",
    "                'enum_identifier': 'nibdAbsolute',\n",
    "                'type': 'absolute',\n",
    "                'resolution': {\n",
    "                    'value': 0.008,\n",
    "                    'resolutionUnit': 'Hz',\n",
    "                    'dataUnit': 'mmHg',\n",
    "                },\n",
    "            },    \n",
    "        },\n",
    "        {\n",
    "            'data': s3c_spo2,\n",
    "            'channel_information': {\n",
    "                'enum_identifier': 'spo2Absolute',\n",
    "                'type': 'absolute',\n",
    "                'resolution': {\n",
    "                    'value': 1,\n",
    "                    'resolutionUnit': 'Hz',\n",
    "                    'dataUnit': 'mmHg',\n",
    "                },\n",
    "            },    \n",
    "        },\n",
    "        {\n",
    "            'data': s3c_co2,\n",
    "            'channel_information': {\n",
    "                'enum_identifier': 'co2Absolute',\n",
    "                'type': 'absolute',\n",
    "                'resolution': {\n",
    "                    'value': 1,\n",
    "                    'resolutionUnit': 'Hz',\n",
    "                    'dataUnit': 'mmHg',\n",
    "                },\n",
    "            },    \n",
    "        },\n",
    "        {\n",
    "            'data': cpr_s3c,\n",
    "            'channel_information': {\n",
    "                'enum_identifier': 'cpr',\n",
    "                'type': 'graph',\n",
    "                'resolution': {\n",
    "                    'value': 2,\n",
    "                    'resolutionUnit': 'Hz',\n",
    "                    'dataUnit': 'cm',\n",
    "                },\n",
    "            },    \n",
    "        },\n",
    "    ],\n",
    "    'scenario_information': {\n",
    "        'duration': {\n",
    "        'length': 500,\n",
    "        'unit': 'seconds',\n",
    "        },\n",
    "    },\n",
    "}"
   ]
  },
  {
   "cell_type": "code",
   "execution_count": 211,
   "id": "1383692a-a94c-486d-867f-b75bbbfa026f",
   "metadata": {},
   "outputs": [
    {
     "data": {
      "image/png": "[encoded data removed]",
      "text/plain": [
       "<Figure size 432x288 with 1 Axes>"
      ]
     },
     "metadata": {
      "needs_background": "light"
     },
     "output_type": "display_data"
    }
   ],
   "source": [
    "plot(s3c_hf)"
   ]
  },
  {
   "cell_type": "code",
   "execution_count": 217,
   "id": "963f47f3-416c-436c-ab05-f1ee7de99b3a",
   "metadata": {},
   "outputs": [],
   "source": [
    "cpr_s3c = []\n",
    "for i in range(400):\n",
    "    cpr_s3c.append(0)\n",
    "for i in range(600):\n",
    "    cpr_s3c.append(random.uniform(4.5,6.5))\n",
    "colors = []\n",
    "for i in cpr_s3c:\n",
    "    if 5 <= i <= 6 :\n",
    "        colors.append('#34C759')\n",
    "    else:\n",
    "        colors.append('#FF3B30')"
   ]
  },
  {
   "cell_type": "code",
   "execution_count": 218,
   "id": "f4d0d882-10fc-4c8b-9cb9-4430e047dccc",
   "metadata": {},
   "outputs": [
    {
     "data": {
      "text/plain": [
       "1000"
      ]
     },
     "execution_count": 218,
     "metadata": {},
     "output_type": "execute_result"
    }
   ],
   "source": [
    "len(cpr_s3c)"
   ]
  },
  {
   "cell_type": "code",
   "execution_count": 241,
   "id": "4bcb15dc-6476-4671-86a4-c8433df8b55e",
   "metadata": {},
   "outputs": [],
   "source": [
    "scenario_4 = {\n",
    "    'channel_list': [\n",
    "        {\n",
    "            'data': co2_data[0:50000],\n",
    "            'channel_information': {\n",
    "                'enum_identifier': 'co2',\n",
    "                'type': 'graph',\n",
    "                'resolution': {\n",
    "                    'value': 100,\n",
    "                    'resolutionUnit': 'Hz',\n",
    "                    'dataUnit': 'mmHg',\n",
    "                },\n",
    "            },    \n",
    "        },\n",
    "        {\n",
    "            'data': thin_pleth[0:25000],\n",
    "            'channel_information': {\n",
    "                'enum_identifier': 'pleth',\n",
    "                'type': 'graph',\n",
    "                'resolution': {\n",
    "                    'value': 50,\n",
    "                    'resolutionUnit': 'Hz',\n",
    "                    'dataUnit': 'plt',\n",
    "                },\n",
    "            },    \n",
    "        },\n",
    "        {\n",
    "            'data': s4_hf,\n",
    "            'channel_information': {\n",
    "                'enum_identifier': 'hfAbsolute',\n",
    "                'type': 'absolute',\n",
    "                'resolution': {\n",
    "                    'value': 2,\n",
    "                    'resolutionUnit': 'Hz',\n",
    "                    'dataUnit': 'bpm',\n",
    "                },\n",
    "            },    \n",
    "        },\n",
    "        {\n",
    "            'data': ecgCh2[0:250000],\n",
    "            'channel_information': {\n",
    "                'enum_identifier': 'ecgCh2',\n",
    "                'type': 'graph',\n",
    "                'resolution': {\n",
    "                    'value': 500,\n",
    "                    'resolutionUnit': 'Hz',\n",
    "                    'dataUnit': 'mV',\n",
    "                },\n",
    "            },    \n",
    "        },\n",
    "        {\n",
    "            'data': s4_nibd,\n",
    "            'channel_information': {\n",
    "                'enum_identifier': 'nibdAbsolute',\n",
    "                'type': 'absolute',\n",
    "                'resolution': {\n",
    "                    'value': 0.008,\n",
    "                    'resolutionUnit': 'Hz',\n",
    "                    'dataUnit': 'mmHg',\n",
    "                },\n",
    "            },    \n",
    "        },\n",
    "        {\n",
    "            'data': s4_spo2,\n",
    "            'channel_information': {\n",
    "                'enum_identifier': 'spo2Absolute',\n",
    "                'type': 'absolute',\n",
    "                'resolution': {\n",
    "                    'value': 1,\n",
    "                    'resolutionUnit': 'Hz',\n",
    "                    'dataUnit': 'mmHg',\n",
    "                },\n",
    "            },    \n",
    "        },\n",
    "        {\n",
    "            'data': s4_co2,\n",
    "            'channel_information': {\n",
    "                'enum_identifier': 'co2Absolute',\n",
    "                'type': 'absolute',\n",
    "                'resolution': {\n",
    "                    'value': 1,\n",
    "                    'resolutionUnit': 'Hz',\n",
    "                    'dataUnit': 'mmHg',\n",
    "                },\n",
    "            },    \n",
    "        },\n",
    "        {\n",
    "            'data': cpr_s3c,\n",
    "            'channel_information': {\n",
    "                'enum_identifier': 'cpr',\n",
    "                'type': 'graph',\n",
    "                'resolution': {\n",
    "                    'value': 2,\n",
    "                    'resolutionUnit': 'Hz',\n",
    "                    'dataUnit': 'cm',\n",
    "                },\n",
    "            },    \n",
    "        },\n",
    "    ],\n",
    "    'scenario_information': {\n",
    "        'duration': {\n",
    "        'length': 500,\n",
    "        'unit': 'seconds',\n",
    "        },\n",
    "    },\n",
    "}"
   ]
  },
  {
   "cell_type": "code",
   "execution_count": 232,
   "id": "0a5142c5-f8a3-4d6d-91f4-ed71f6c27c3b",
   "metadata": {},
   "outputs": [],
   "source": [
    "s4_hf, s4_spo2, s4_co2, s4_nibd = [], [], [], []\n",
    "for i in scenario4_data['data'][0]['data']:\n",
    "    s4_hf.append(int(i))\n",
    "for i in scenario4_data['data'][1]['data']:\n",
    "    s4_spo2.append(int(i))\n",
    "for i in scenario4_data['data'][2]['data']:\n",
    "    s4_co2.append(int(i))\n",
    "for i in scenario4_data['data'][3]['data']:\n",
    "    s4_nibd.append(i)"
   ]
  },
  {
   "cell_type": "code",
   "execution_count": 240,
   "id": "920bb6d6-69b5-4f60-bc5c-46c2e97de7a6",
   "metadata": {},
   "outputs": [
    {
     "data": {
      "text/plain": [
       "4"
      ]
     },
     "execution_count": 240,
     "metadata": {},
     "output_type": "execute_result"
    }
   ],
   "source": [
    "len(s4_nibd)"
   ]
  },
  {
   "cell_type": "code",
   "execution_count": 7,
   "id": "a2c580c7-2ce5-42de-abd0-08bbe360b55e",
   "metadata": {},
   "outputs": [
    {
     "data": {
      "image/png": "[encoded data removed]",
      "text/plain": [
       "<Figure size 432x288 with 1 Axes>"
      ]
     },
     "metadata": {
      "needs_background": "light"
     },
     "output_type": "display_data"
    }
   ],
   "source": [
    "plot(sinus_lead2)"
   ]
  }
 ],
 "metadata": {
  "kernelspec": {
   "display_name": "Python 3 (ipykernel)",
   "language": "python",
   "name": "python3"
  },
  "language_info": {
   "codemirror_mode": {
    "name": "ipython",
    "version": 3
   },
   "file_extension": ".py",
   "mimetype": "text/x-python",
   "name": "python",
   "nbconvert_exporter": "python",
   "pygments_lexer": "ipython3",
   "version": "3.9.2"
  }
 },
 "nbformat": 4,
 "nbformat_minor": 5
}
